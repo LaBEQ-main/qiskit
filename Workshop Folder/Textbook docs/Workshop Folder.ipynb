{
 "cells": [
  {
   "cell_type": "markdown",
   "id": "offshore-instrument",
   "metadata": {},
   "source": [
    "# An Introduction to Qiskit Gates"
   ]
  },
  {
   "cell_type": "markdown",
   "id": "automated-remove",
   "metadata": {},
   "source": [
    "## Single Qubit Gates\n",
    "\n",
    "In this section we will cover the following single qubit gates and their explanations:\n",
    "\n",
    "1. X-gates\n",
    "2. H-gates"
   ]
  },
  {
   "cell_type": "code",
   "execution_count": null,
   "id": "stopped-dominican",
   "metadata": {},
   "outputs": [],
   "source": []
  },
  {
   "cell_type": "markdown",
   "id": "considerable-limitation",
   "metadata": {},
   "source": [
    "## Multi-Qubit Gates\n",
    "\n",
    "In this section we will cover the following multiple qubit gates:\n",
    "\n",
    "1. CNOT gates\n",
    "2. \n",
    "3. Toffoli Gates\n"
   ]
  },
  {
   "cell_type": "code",
   "execution_count": null,
   "id": "professional-elizabeth",
   "metadata": {},
   "outputs": [],
   "source": []
  },
  {
   "cell_type": "markdown",
   "id": "baking-riding",
   "metadata": {},
   "source": [
    "## Simple examples and algorithms"
   ]
  },
  {
   "cell_type": "code",
   "execution_count": null,
   "id": "geographic-puzzle",
   "metadata": {},
   "outputs": [],
   "source": []
  }
 ],
 "metadata": {
  "kernelspec": {
   "display_name": "Qiskit",
   "language": "python",
   "name": "qiskit"
  },
  "language_info": {
   "codemirror_mode": {
    "name": "ipython",
    "version": 3
   },
   "file_extension": ".py",
   "mimetype": "text/x-python",
   "name": "python",
   "nbconvert_exporter": "python",
   "pygments_lexer": "ipython3",
   "version": "3.8.5"
  }
 },
 "nbformat": 4,
 "nbformat_minor": 5
}
